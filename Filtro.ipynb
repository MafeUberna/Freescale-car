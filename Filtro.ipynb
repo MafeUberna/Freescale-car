{
  "nbformat": 4,
  "nbformat_minor": 0,
  "metadata": {
    "colab": {
      "provenance": [],
      "authorship_tag": "ABX9TyMBpVajwPAHvk/G9fO7doUW",
      "include_colab_link": true
    },
    "kernelspec": {
      "name": "python3",
      "display_name": "Python 3"
    },
    "language_info": {
      "name": "python"
    }
  },
  "cells": [
    {
      "cell_type": "markdown",
      "metadata": {
        "id": "view-in-github",
        "colab_type": "text"
      },
      "source": [
        "<a href=\"https://colab.research.google.com/github/MafeUberna/Freescale-car/blob/main/Filtro.ipynb\" target=\"_parent\"><img src=\"https://colab.research.google.com/assets/colab-badge.svg\" alt=\"Open In Colab\"/></a>"
      ]
    },
    {
      "cell_type": "code",
      "execution_count": null,
      "metadata": {
        "id": "fL7NUwnOn79o"
      },
      "outputs": [],
      "source": [
        "# Packages and adjustments to the figures\n",
        "from scipy import signal\n",
        "import matplotlib.pyplot as plt\n",
        "import numpy as np\n",
        "import math\n",
        "#plt.rcParams[\"figure.figsize\"] = 10,5\n",
        "#plt.rcParams[\"font.size\"] = 16\n",
        "#plt.rcParams.update({\"text.usetex\": True,\"font.family\": \"sans-serif\",\"font.sans-serif\": [\"Helvetica\"]})"
      ]
    },
    {
      "cell_type": "code",
      "source": [
        "# Generate a signal\n",
        "samplingFreq = 1000; # sampled at 1 kHz = 1000 samples / second\n",
        "tlims = [0,1]        # in seconds\n",
        "signalFreq = [2,50]; # Cycles / second\n",
        "signalMag = [1,0.2]; # magnitude of each sine\n",
        "t = np.linspace(tlims[0],tlims[1],(tlims[1]-tlims[0])*samplingFreq)\n",
        "y = signalMag[0]*np.sin(2*math.pi*signalFreq[0]*t) + signalMag[1]*np.sin(2*math.pi*signalFreq[1]*t)\n",
        "\n",
        "# Compute the Fourier transform\n",
        "yhat = np.fft.fft(y);\n",
        "fcycles = np.fft.fftfreq(len(t),d=1.0/samplingFreq); # the frequencies in cycles/s\n",
        "\n"
      ],
      "metadata": {
        "id": "hbcr35QvpGRk"
      },
      "execution_count": null,
      "outputs": []
    },
    {
      "cell_type": "code",
      "source": [
        "# Low-pass filter\n",
        "w0 = 2*np.pi*5; # pole frequency (rad/s)\n",
        "num = w0        # transfer function numerator coefficients\n",
        "den = [1,w0]    # transfer function denominator coefficients\n",
        "lowPass = signal.TransferFunction(num,den) # Transfer function\n",
        "\n",
        "# Generate the bode plot\n",
        "w = np.logspace( np.log10(min(signalFreq)*2*np.pi/10), np.log10(max(signalFreq)*2*np.pi*10), 500 )\n",
        "w, mag, phase = signal.bode(lowPass,w)\n",
        "\n"
      ],
      "metadata": {
        "id": "2uR0xL9CphOb"
      },
      "execution_count": null,
      "outputs": []
    },
    {
      "cell_type": "code",
      "source": [
        "dt = 1.0/samplingFreq;\n",
        "discreteLowPass = lowPass.to_discrete(dt,method='gbt',alpha=0.5)\n",
        "print(discreteLowPass)"
      ],
      "metadata": {
        "colab": {
          "base_uri": "https://localhost:8080/"
        },
        "id": "BjZD2IgcpmSr",
        "outputId": "050e0866-26a1-438e-b293-671970984690"
      },
      "execution_count": null,
      "outputs": [
        {
          "output_type": "stream",
          "name": "stdout",
          "text": [
            "TransferFunctionDiscrete(\n",
            "array([0.01546504, 0.01546504]),\n",
            "array([ 1.        , -0.96906992]),\n",
            "dt: 0.001\n",
            ")\n"
          ]
        }
      ]
    },
    {
      "cell_type": "code",
      "source": [
        "# The coefficients from the discrete form of the filter transfer function (but with a negative sign)\n",
        "b = discreteLowPass.num;\n",
        "a = -discreteLowPass.den;\n",
        "print(\"Filter coefficients b_i: \" + str(b))\n",
        "print(\"Filter coefficients a_i: \" + str(a[1:]))\n",
        "\n",
        "# Filter the signal\n",
        "yfilt = np.zeros(len(y));\n",
        "for i in range(3,len(y)):\n",
        "    yfilt[i] = a[1]*yfilt[i-1] + b[0]*y[i] + b[1]*y[i-1];\n",
        "\n"
      ],
      "metadata": {
        "id": "bLaZRDKwps3D",
        "outputId": "9be5fbaa-c1ec-462f-a238-30abad23fbd4",
        "colab": {
          "base_uri": "https://localhost:8080/"
        }
      },
      "execution_count": null,
      "outputs": [
        {
          "output_type": "stream",
          "name": "stdout",
          "text": [
            "Filter coefficients b_i: [0.01546504 0.01546504]\n",
            "Filter coefficients a_i: [0.96906992]\n"
          ]
        }
      ]
    }
  ]
}